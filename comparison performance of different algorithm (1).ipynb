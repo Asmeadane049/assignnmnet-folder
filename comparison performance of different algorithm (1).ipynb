{
 "cells": [
  {
   "cell_type": "markdown",
   "id": "b90ba58e",
   "metadata": {},
   "source": [
    "# NAME:ASMELLASH GEBREYESUS \n",
    "    ID_NUMBER RM/0933/2014"
   ]
  },
  {
   "cell_type": "markdown",
   "id": "7391e51b",
   "metadata": {},
   "source": [
    "# Description about the data"
   ]
  },
  {
   "cell_type": "markdown",
   "id": "e51eeb18",
   "metadata": {},
   "source": [
    "Water quality ML\n",
    "Comparison of various classifier for water Quality Data!\n",
    "Explore the docs »\n",
    "\n",
    "View Demo · Report Bug · Request Feature\n",
    "\n",
    "About The Project\n",
    "The problem statement is, we have given data of quality of water and factors responsible for that and we have to classify the data using classifier algorithms and then compare the data of result obtained in each algorithm.\n",
    "\n",
    "Classifiers in Machine Learning: - A classifier in machine learning is an algorithm that automatically orders or categorizes data into one or more of a set of “classes.”\n",
    "\n",
    "Different types of classifiers we have used:\n",
    "\n",
    "Linear Regression\n",
    "Logistic Regression\n",
    "K Nearest Neighbor (KNN)\n",
    "Decision tree\n",
    "Naive Bayes\n",
    "Support Vector Machine (SVM)\n",
    "Data Description: - Dataset consists of 16 independent references and one output reference. Ref1 and Ref2 doesn't have any impact on water quality and also since ref 'CARBOHYDRATE' has zero value for all it doesn't affect the quality. We have water quality data of 88 different places."
   ]
  },
  {
   "cell_type": "markdown",
   "id": "0e6e85e3",
   "metadata": {},
   "source": [
    "# import library "
   ]
  },
  {
   "cell_type": "code",
   "execution_count": 100,
   "id": "ae2cbfaf",
   "metadata": {},
   "outputs": [],
   "source": [
    "import numpy as np \n",
    "import matplotlib.pyplot as plt \n",
    "from scipy.stats import itemfreq\n",
    "import pandas as pd\n",
    "from sklearn.model_selection import train_test_split\n",
    "from sklearn.metrics import classification_report, confusion_matrix, accuracy_score\n",
    "import warnings\n",
    "\n"
   ]
  },
  {
   "cell_type": "markdown",
   "id": "24d42a69",
   "metadata": {},
   "source": [
    "# load the dataset waterQuality"
   ]
  },
  {
   "cell_type": "code",
   "execution_count": 101,
   "id": "dbc93fdd",
   "metadata": {},
   "outputs": [
    {
     "data": {
      "text/html": [
       "<div>\n",
       "<style scoped>\n",
       "    .dataframe tbody tr th:only-of-type {\n",
       "        vertical-align: middle;\n",
       "    }\n",
       "\n",
       "    .dataframe tbody tr th {\n",
       "        vertical-align: top;\n",
       "    }\n",
       "\n",
       "    .dataframe thead th {\n",
       "        text-align: right;\n",
       "    }\n",
       "</style>\n",
       "<table border=\"1\" class=\"dataframe\">\n",
       "  <thead>\n",
       "    <tr style=\"text-align: right;\">\n",
       "      <th></th>\n",
       "      <th>ID</th>\n",
       "      <th>SITENAME</th>\n",
       "      <th>Mg</th>\n",
       "      <th>PH</th>\n",
       "      <th>K(Potassium)</th>\n",
       "      <th>NITRATE</th>\n",
       "      <th>SULPHATE</th>\n",
       "      <th>EC(Electrical Conductivity)</th>\n",
       "      <th>Ca(Calcium)</th>\n",
       "      <th>Na(Sodium)</th>\n",
       "      <th>CARBONATE</th>\n",
       "      <th>BICARBONATE</th>\n",
       "      <th>CHLORIDE</th>\n",
       "      <th>FLUORIDE</th>\n",
       "      <th>SAR(Sodium Absorption Ratio)</th>\n",
       "      <th>RSC(Residual Sodium Carbonate</th>\n",
       "      <th>waterQuality</th>\n",
       "    </tr>\n",
       "  </thead>\n",
       "  <tbody>\n",
       "    <tr>\n",
       "      <th>0</th>\n",
       "      <td>1</td>\n",
       "      <td>Vengalapuram</td>\n",
       "      <td>268.0</td>\n",
       "      <td>7.3</td>\n",
       "      <td>10.0</td>\n",
       "      <td>276.0</td>\n",
       "      <td>304.0</td>\n",
       "      <td>5730</td>\n",
       "      <td>16.0</td>\n",
       "      <td>850</td>\n",
       "      <td>0</td>\n",
       "      <td>878.0</td>\n",
       "      <td>1304.0</td>\n",
       "      <td>1.6</td>\n",
       "      <td>10.9</td>\n",
       "      <td>-8.5</td>\n",
       "      <td>E</td>\n",
       "    </tr>\n",
       "    <tr>\n",
       "      <th>1</th>\n",
       "      <td>2</td>\n",
       "      <td>Kavalur</td>\n",
       "      <td>94.9</td>\n",
       "      <td>7.2</td>\n",
       "      <td>3.0</td>\n",
       "      <td>2.0</td>\n",
       "      <td>12.0</td>\n",
       "      <td>1069</td>\n",
       "      <td>24.0</td>\n",
       "      <td>77</td>\n",
       "      <td>0</td>\n",
       "      <td>421.0</td>\n",
       "      <td>163.0</td>\n",
       "      <td>1.3</td>\n",
       "      <td>1.6</td>\n",
       "      <td>-2.1</td>\n",
       "      <td>A</td>\n",
       "    </tr>\n",
       "    <tr>\n",
       "      <th>2</th>\n",
       "      <td>3</td>\n",
       "      <td>Alangayam</td>\n",
       "      <td>226.1</td>\n",
       "      <td>7.5</td>\n",
       "      <td>0.0</td>\n",
       "      <td>16.0</td>\n",
       "      <td>150.0</td>\n",
       "      <td>2830</td>\n",
       "      <td>20.0</td>\n",
       "      <td>300</td>\n",
       "      <td>0</td>\n",
       "      <td>549.0</td>\n",
       "      <td>631.0</td>\n",
       "      <td>1.0</td>\n",
       "      <td>4.2</td>\n",
       "      <td>-10.6</td>\n",
       "      <td>E</td>\n",
       "    </tr>\n",
       "    <tr>\n",
       "      <th>3</th>\n",
       "      <td>4</td>\n",
       "      <td>Vaniyambadi1</td>\n",
       "      <td>211.6</td>\n",
       "      <td>7.3</td>\n",
       "      <td>5.0</td>\n",
       "      <td>140.0</td>\n",
       "      <td>264.0</td>\n",
       "      <td>3600</td>\n",
       "      <td>20.0</td>\n",
       "      <td>500</td>\n",
       "      <td>0</td>\n",
       "      <td>726.0</td>\n",
       "      <td>680.0</td>\n",
       "      <td>1.7</td>\n",
       "      <td>7.2</td>\n",
       "      <td>-6.5</td>\n",
       "      <td>E</td>\n",
       "    </tr>\n",
       "    <tr>\n",
       "      <th>4</th>\n",
       "      <td>5</td>\n",
       "      <td>Sangilikuppam</td>\n",
       "      <td>238.3</td>\n",
       "      <td>7.2</td>\n",
       "      <td>2.0</td>\n",
       "      <td>174.0</td>\n",
       "      <td>240.0</td>\n",
       "      <td>2300</td>\n",
       "      <td>24.0</td>\n",
       "      <td>152</td>\n",
       "      <td>0</td>\n",
       "      <td>537.0</td>\n",
       "      <td>305.0</td>\n",
       "      <td>1.2</td>\n",
       "      <td>2.1</td>\n",
       "      <td>-12.0</td>\n",
       "      <td>E</td>\n",
       "    </tr>\n",
       "  </tbody>\n",
       "</table>\n",
       "</div>"
      ],
      "text/plain": [
       "   ID       SITENAME     Mg   PH  K(Potassium)  NITRATE  SULPHATE  \\\n",
       "0   1   Vengalapuram  268.0  7.3          10.0    276.0     304.0   \n",
       "1   2        Kavalur   94.9  7.2           3.0      2.0      12.0   \n",
       "2   3      Alangayam  226.1  7.5           0.0     16.0     150.0   \n",
       "3   4   Vaniyambadi1  211.6  7.3           5.0    140.0     264.0   \n",
       "4   5  Sangilikuppam  238.3  7.2           2.0    174.0     240.0   \n",
       "\n",
       "   EC(Electrical Conductivity)  Ca(Calcium)  Na(Sodium)  CARBONATE  \\\n",
       "0                         5730         16.0         850          0   \n",
       "1                         1069         24.0          77          0   \n",
       "2                         2830         20.0         300          0   \n",
       "3                         3600         20.0         500          0   \n",
       "4                         2300         24.0         152          0   \n",
       "\n",
       "   BICARBONATE  CHLORIDE  FLUORIDE  SAR(Sodium Absorption Ratio)  \\\n",
       "0        878.0    1304.0       1.6                          10.9   \n",
       "1        421.0     163.0       1.3                           1.6   \n",
       "2        549.0     631.0       1.0                           4.2   \n",
       "3        726.0     680.0       1.7                           7.2   \n",
       "4        537.0     305.0       1.2                           2.1   \n",
       "\n",
       "   RSC(Residual Sodium Carbonate waterQuality  \n",
       "0                           -8.5            E  \n",
       "1                           -2.1            A  \n",
       "2                          -10.6            E  \n",
       "3                           -6.5            E  \n",
       "4                          -12.0            E  "
      ]
     },
     "execution_count": 101,
     "metadata": {},
     "output_type": "execute_result"
    }
   ],
   "source": [
    "df=pd.read_csv(\"E:\\dataa\\water-quality\\dataset.csv\")\n",
    "df.head()"
   ]
  },
  {
   "cell_type": "code",
   "execution_count": 102,
   "id": "d7e492ad",
   "metadata": {},
   "outputs": [
    {
     "data": {
      "text/plain": [
       "<bound method NDFrame.describe of      ID       SITENAME     Mg   PH  K(Potassium)  NITRATE  SULPHATE  \\\n",
       "0     1   Vengalapuram  268.0  7.3          10.0    276.0     304.0   \n",
       "1     2        Kavalur   94.9  7.2           3.0      2.0      12.0   \n",
       "2     3      Alangayam  226.1  7.5           0.0     16.0     150.0   \n",
       "3     4   Vaniyambadi1  211.6  7.3           5.0    140.0     264.0   \n",
       "4     5  Sangilikuppam  238.3  7.2           2.0    174.0     240.0   \n",
       "..  ...            ...    ...  ...           ...      ...       ...   \n",
       "83  134   Arakkonam-EW   12.0  7.7          25.0      8.6      29.0   \n",
       "84  135     Arakkonam2   86.5  7.7          70.8     18.1     169.6   \n",
       "85  136     Sholinghur   22.9  7.6          34.0      2.0      25.0   \n",
       "86  137   Sholingar-EW   13.0  7.6          15.0     15.0      10.0   \n",
       "87  138     Sholingar1   23.0  7.6          34.0      2.0      25.0   \n",
       "\n",
       "    EC(Electrical Conductivity)  Ca(Calcium)  Na(Sodium)  CARBONATE  \\\n",
       "0                          5730         16.0         850          0   \n",
       "1                          1069         24.0          77          0   \n",
       "2                          2830         20.0         300          0   \n",
       "3                          3600         20.0         500          0   \n",
       "4                          2300         24.0         152          0   \n",
       "..                          ...          ...         ...        ...   \n",
       "83                          610         28.0          80          4   \n",
       "84                          740        103.8         271          4   \n",
       "85                          525         50.0          33          0   \n",
       "86                          560         26.0          64          4   \n",
       "87                          525         50.0          33          0   \n",
       "\n",
       "    BICARBONATE  CHLORIDE  FLUORIDE  SAR(Sodium Absorption Ratio)  \\\n",
       "0         878.0    1304.0       1.6                          10.9   \n",
       "1         421.0     163.0       1.3                           1.6   \n",
       "2         549.0     631.0       1.0                           4.2   \n",
       "3         726.0     680.0       1.7                           7.2   \n",
       "4         537.0     305.0       1.2                           2.1   \n",
       "..          ...       ...       ...                           ...   \n",
       "83        250.0      39.0       0.7                           3.2   \n",
       "84        402.5      60.0       1.0                           4.6   \n",
       "85        179.0      53.0       0.4                           1.0   \n",
       "86        268.0      25.0       0.8                           2.6   \n",
       "87        179.0      53.0       0.4                           1.0   \n",
       "\n",
       "    RSC(Residual Sodium Carbonate waterQuality  \n",
       "0                            -8.5            E  \n",
       "1                            -2.1            A  \n",
       "2                           -10.6            E  \n",
       "3                            -6.5            E  \n",
       "4                           -12.0            E  \n",
       "..                            ...          ...  \n",
       "83                            1.7            A  \n",
       "84                           -5.7            A  \n",
       "85                           -1.5            A  \n",
       "86                            2.0            A  \n",
       "87                           -1.5            A  \n",
       "\n",
       "[88 rows x 17 columns]>"
      ]
     },
     "execution_count": 102,
     "metadata": {},
     "output_type": "execute_result"
    }
   ],
   "source": [
    "df.describe"
   ]
  },
  {
   "cell_type": "markdown",
   "id": "f0c35850",
   "metadata": {},
   "source": [
    "# Ratio of missing value"
   ]
  },
  {
   "cell_type": "code",
   "execution_count": 103,
   "id": "922bf5ce",
   "metadata": {},
   "outputs": [
    {
     "data": {
      "text/plain": [
       "ID                               0\n",
       "SITENAME                         0\n",
       "Mg                               0\n",
       "PH                               0\n",
       "K(Potassium)                     0\n",
       "NITRATE                          0\n",
       "SULPHATE                         0\n",
       "EC(Electrical Conductivity)      0\n",
       "Ca(Calcium)                      0\n",
       "Na(Sodium)                       0\n",
       "CARBONATE                        0\n",
       "BICARBONATE                      0\n",
       "CHLORIDE                         0\n",
       "FLUORIDE                         0\n",
       "SAR(Sodium Absorption Ratio)     0\n",
       "RSC(Residual Sodium Carbonate    0\n",
       "waterQuality                     0\n",
       "dtype: int64"
      ]
     },
     "execution_count": 103,
     "metadata": {},
     "output_type": "execute_result"
    }
   ],
   "source": [
    "# number of missing values in each variable\n",
    "df.isnull().sum()"
   ]
  },
  {
   "cell_type": "code",
   "execution_count": 104,
   "id": "ea372e43",
   "metadata": {},
   "outputs": [
    {
     "data": {
      "text/plain": [
       "ID                               0.0\n",
       "SITENAME                         0.0\n",
       "Mg                               0.0\n",
       "PH                               0.0\n",
       "K(Potassium)                     0.0\n",
       "NITRATE                          0.0\n",
       "SULPHATE                         0.0\n",
       "EC(Electrical Conductivity)      0.0\n",
       "Ca(Calcium)                      0.0\n",
       "Na(Sodium)                       0.0\n",
       "CARBONATE                        0.0\n",
       "BICARBONATE                      0.0\n",
       "CHLORIDE                         0.0\n",
       "FLUORIDE                         0.0\n",
       "SAR(Sodium Absorption Ratio)     0.0\n",
       "RSC(Residual Sodium Carbonate    0.0\n",
       "waterQuality                     0.0\n",
       "dtype: float64"
      ]
     },
     "execution_count": 104,
     "metadata": {},
     "output_type": "execute_result"
    }
   ],
   "source": [
    "# percentage of missing values in each variable\n",
    "df.isnull().sum()/len(df)*100\n",
    "\n"
   ]
  },
  {
   "cell_type": "code",
   "execution_count": 105,
   "id": "d686022e",
   "metadata": {},
   "outputs": [],
   "source": [
    "# saving missing values in a variable\n",
    "a=df.isnull().sum()/len(df)*100\n",
    "\n",
    "# saving column names in a variable\n",
    "variables = df.columns"
   ]
  },
  {
   "cell_type": "code",
   "execution_count": 106,
   "id": "9780d171",
   "metadata": {},
   "outputs": [],
   "source": [
    "# new variable to store variables having missing values less than a threshold\n",
    "\n",
    "variable = [ ]\n",
    "\n",
    "for i in range(df.columns.shape[0]):\n",
    "    if a[i]<=40: #setting the threshold as 40%\n",
    "        variable.append(variables[i])"
   ]
  },
  {
   "cell_type": "code",
   "execution_count": 107,
   "id": "381995f8",
   "metadata": {},
   "outputs": [
    {
     "data": {
      "text/html": [
       "<div>\n",
       "<style scoped>\n",
       "    .dataframe tbody tr th:only-of-type {\n",
       "        vertical-align: middle;\n",
       "    }\n",
       "\n",
       "    .dataframe tbody tr th {\n",
       "        vertical-align: top;\n",
       "    }\n",
       "\n",
       "    .dataframe thead th {\n",
       "        text-align: right;\n",
       "    }\n",
       "</style>\n",
       "<table border=\"1\" class=\"dataframe\">\n",
       "  <thead>\n",
       "    <tr style=\"text-align: right;\">\n",
       "      <th></th>\n",
       "      <th>ID</th>\n",
       "      <th>SITENAME</th>\n",
       "      <th>Mg</th>\n",
       "      <th>PH</th>\n",
       "      <th>K(Potassium)</th>\n",
       "      <th>NITRATE</th>\n",
       "      <th>SULPHATE</th>\n",
       "      <th>EC(Electrical Conductivity)</th>\n",
       "      <th>Ca(Calcium)</th>\n",
       "      <th>Na(Sodium)</th>\n",
       "      <th>CARBONATE</th>\n",
       "      <th>BICARBONATE</th>\n",
       "      <th>CHLORIDE</th>\n",
       "      <th>FLUORIDE</th>\n",
       "      <th>SAR(Sodium Absorption Ratio)</th>\n",
       "      <th>RSC(Residual Sodium Carbonate</th>\n",
       "      <th>waterQuality</th>\n",
       "    </tr>\n",
       "  </thead>\n",
       "  <tbody>\n",
       "    <tr>\n",
       "      <th>0</th>\n",
       "      <td>1</td>\n",
       "      <td>Vengalapuram</td>\n",
       "      <td>268.0</td>\n",
       "      <td>7.3</td>\n",
       "      <td>10.0</td>\n",
       "      <td>276.0</td>\n",
       "      <td>304.0</td>\n",
       "      <td>5730</td>\n",
       "      <td>16.0</td>\n",
       "      <td>850</td>\n",
       "      <td>0</td>\n",
       "      <td>878.0</td>\n",
       "      <td>1304.0</td>\n",
       "      <td>1.6</td>\n",
       "      <td>10.9</td>\n",
       "      <td>-8.5</td>\n",
       "      <td>E</td>\n",
       "    </tr>\n",
       "    <tr>\n",
       "      <th>1</th>\n",
       "      <td>2</td>\n",
       "      <td>Kavalur</td>\n",
       "      <td>94.9</td>\n",
       "      <td>7.2</td>\n",
       "      <td>3.0</td>\n",
       "      <td>2.0</td>\n",
       "      <td>12.0</td>\n",
       "      <td>1069</td>\n",
       "      <td>24.0</td>\n",
       "      <td>77</td>\n",
       "      <td>0</td>\n",
       "      <td>421.0</td>\n",
       "      <td>163.0</td>\n",
       "      <td>1.3</td>\n",
       "      <td>1.6</td>\n",
       "      <td>-2.1</td>\n",
       "      <td>A</td>\n",
       "    </tr>\n",
       "    <tr>\n",
       "      <th>2</th>\n",
       "      <td>3</td>\n",
       "      <td>Alangayam</td>\n",
       "      <td>226.1</td>\n",
       "      <td>7.5</td>\n",
       "      <td>0.0</td>\n",
       "      <td>16.0</td>\n",
       "      <td>150.0</td>\n",
       "      <td>2830</td>\n",
       "      <td>20.0</td>\n",
       "      <td>300</td>\n",
       "      <td>0</td>\n",
       "      <td>549.0</td>\n",
       "      <td>631.0</td>\n",
       "      <td>1.0</td>\n",
       "      <td>4.2</td>\n",
       "      <td>-10.6</td>\n",
       "      <td>E</td>\n",
       "    </tr>\n",
       "    <tr>\n",
       "      <th>3</th>\n",
       "      <td>4</td>\n",
       "      <td>Vaniyambadi1</td>\n",
       "      <td>211.6</td>\n",
       "      <td>7.3</td>\n",
       "      <td>5.0</td>\n",
       "      <td>140.0</td>\n",
       "      <td>264.0</td>\n",
       "      <td>3600</td>\n",
       "      <td>20.0</td>\n",
       "      <td>500</td>\n",
       "      <td>0</td>\n",
       "      <td>726.0</td>\n",
       "      <td>680.0</td>\n",
       "      <td>1.7</td>\n",
       "      <td>7.2</td>\n",
       "      <td>-6.5</td>\n",
       "      <td>E</td>\n",
       "    </tr>\n",
       "    <tr>\n",
       "      <th>4</th>\n",
       "      <td>5</td>\n",
       "      <td>Sangilikuppam</td>\n",
       "      <td>238.3</td>\n",
       "      <td>7.2</td>\n",
       "      <td>2.0</td>\n",
       "      <td>174.0</td>\n",
       "      <td>240.0</td>\n",
       "      <td>2300</td>\n",
       "      <td>24.0</td>\n",
       "      <td>152</td>\n",
       "      <td>0</td>\n",
       "      <td>537.0</td>\n",
       "      <td>305.0</td>\n",
       "      <td>1.2</td>\n",
       "      <td>2.1</td>\n",
       "      <td>-12.0</td>\n",
       "      <td>E</td>\n",
       "    </tr>\n",
       "  </tbody>\n",
       "</table>\n",
       "</div>"
      ],
      "text/plain": [
       "   ID       SITENAME     Mg   PH  K(Potassium)  NITRATE  SULPHATE  \\\n",
       "0   1   Vengalapuram  268.0  7.3          10.0    276.0     304.0   \n",
       "1   2        Kavalur   94.9  7.2           3.0      2.0      12.0   \n",
       "2   3      Alangayam  226.1  7.5           0.0     16.0     150.0   \n",
       "3   4   Vaniyambadi1  211.6  7.3           5.0    140.0     264.0   \n",
       "4   5  Sangilikuppam  238.3  7.2           2.0    174.0     240.0   \n",
       "\n",
       "   EC(Electrical Conductivity)  Ca(Calcium)  Na(Sodium)  CARBONATE  \\\n",
       "0                         5730         16.0         850          0   \n",
       "1                         1069         24.0          77          0   \n",
       "2                         2830         20.0         300          0   \n",
       "3                         3600         20.0         500          0   \n",
       "4                         2300         24.0         152          0   \n",
       "\n",
       "   BICARBONATE  CHLORIDE  FLUORIDE  SAR(Sodium Absorption Ratio)  \\\n",
       "0        878.0    1304.0       1.6                          10.9   \n",
       "1        421.0     163.0       1.3                           1.6   \n",
       "2        549.0     631.0       1.0                           4.2   \n",
       "3        726.0     680.0       1.7                           7.2   \n",
       "4        537.0     305.0       1.2                           2.1   \n",
       "\n",
       "   RSC(Residual Sodium Carbonate waterQuality  \n",
       "0                           -8.5            E  \n",
       "1                           -2.1            A  \n",
       "2                          -10.6            E  \n",
       "3                           -6.5            E  \n",
       "4                          -12.0            E  "
      ]
     },
     "execution_count": 107,
     "metadata": {},
     "output_type": "execute_result"
    }
   ],
   "source": [
    "# creating a new dataframe using the above variables\n",
    "\n",
    "new_data = df[variable]\n",
    "new_data.head()"
   ]
  },
  {
   "cell_type": "code",
   "execution_count": 108,
   "id": "80466be8",
   "metadata": {},
   "outputs": [
    {
     "data": {
      "text/plain": [
       "ID                               0.0\n",
       "SITENAME                         0.0\n",
       "Mg                               0.0\n",
       "PH                               0.0\n",
       "K(Potassium)                     0.0\n",
       "NITRATE                          0.0\n",
       "SULPHATE                         0.0\n",
       "EC(Electrical Conductivity)      0.0\n",
       "Ca(Calcium)                      0.0\n",
       "Na(Sodium)                       0.0\n",
       "CARBONATE                        0.0\n",
       "BICARBONATE                      0.0\n",
       "CHLORIDE                         0.0\n",
       "FLUORIDE                         0.0\n",
       "SAR(Sodium Absorption Ratio)     0.0\n",
       "RSC(Residual Sodium Carbonate    0.0\n",
       "waterQuality                     0.0\n",
       "dtype: float64"
      ]
     },
     "execution_count": 108,
     "metadata": {},
     "output_type": "execute_result"
    }
   ],
   "source": [
    "# percentage of missing values in each variable of new data\n",
    "\n",
    "new_data.isnull().sum()/len(new_data)*100\n"
   ]
  },
  {
   "cell_type": "code",
   "execution_count": 109,
   "id": "a855f407",
   "metadata": {},
   "outputs": [
    {
     "data": {
      "text/plain": [
       "((88, 17), (88, 17))"
      ]
     },
     "execution_count": 109,
     "metadata": {},
     "output_type": "execute_result"
    }
   ],
   "source": [
    "# shape of new and original data\n",
    "\n",
    "new_data.shape, df.shape\n"
   ]
  },
  {
   "cell_type": "code",
   "execution_count": 110,
   "id": "d9554ce3",
   "metadata": {},
   "outputs": [
    {
     "data": {
      "text/html": [
       "<div>\n",
       "<style scoped>\n",
       "    .dataframe tbody tr th:only-of-type {\n",
       "        vertical-align: middle;\n",
       "    }\n",
       "\n",
       "    .dataframe tbody tr th {\n",
       "        vertical-align: top;\n",
       "    }\n",
       "\n",
       "    .dataframe thead th {\n",
       "        text-align: right;\n",
       "    }\n",
       "</style>\n",
       "<table border=\"1\" class=\"dataframe\">\n",
       "  <thead>\n",
       "    <tr style=\"text-align: right;\">\n",
       "      <th></th>\n",
       "      <th>ID</th>\n",
       "      <th>SITENAME</th>\n",
       "      <th>Mg</th>\n",
       "      <th>PH</th>\n",
       "      <th>K(Potassium)</th>\n",
       "      <th>NITRATE</th>\n",
       "      <th>SULPHATE</th>\n",
       "      <th>EC(Electrical Conductivity)</th>\n",
       "      <th>Ca(Calcium)</th>\n",
       "      <th>Na(Sodium)</th>\n",
       "      <th>CARBONATE</th>\n",
       "      <th>BICARBONATE</th>\n",
       "      <th>CHLORIDE</th>\n",
       "      <th>FLUORIDE</th>\n",
       "      <th>SAR(Sodium Absorption Ratio)</th>\n",
       "      <th>RSC(Residual Sodium Carbonate</th>\n",
       "      <th>waterQuality</th>\n",
       "    </tr>\n",
       "  </thead>\n",
       "  <tbody>\n",
       "    <tr>\n",
       "      <th>0</th>\n",
       "      <td>1</td>\n",
       "      <td>Vengalapuram</td>\n",
       "      <td>268.0</td>\n",
       "      <td>7.3</td>\n",
       "      <td>10.0</td>\n",
       "      <td>276.0</td>\n",
       "      <td>304.0</td>\n",
       "      <td>5730</td>\n",
       "      <td>16.0</td>\n",
       "      <td>850</td>\n",
       "      <td>0</td>\n",
       "      <td>878.0</td>\n",
       "      <td>1304.0</td>\n",
       "      <td>1.6</td>\n",
       "      <td>10.9</td>\n",
       "      <td>-8.5</td>\n",
       "      <td>5</td>\n",
       "    </tr>\n",
       "    <tr>\n",
       "      <th>1</th>\n",
       "      <td>2</td>\n",
       "      <td>Kavalur</td>\n",
       "      <td>94.9</td>\n",
       "      <td>7.2</td>\n",
       "      <td>3.0</td>\n",
       "      <td>2.0</td>\n",
       "      <td>12.0</td>\n",
       "      <td>1069</td>\n",
       "      <td>24.0</td>\n",
       "      <td>77</td>\n",
       "      <td>0</td>\n",
       "      <td>421.0</td>\n",
       "      <td>163.0</td>\n",
       "      <td>1.3</td>\n",
       "      <td>1.6</td>\n",
       "      <td>-2.1</td>\n",
       "      <td>1</td>\n",
       "    </tr>\n",
       "    <tr>\n",
       "      <th>2</th>\n",
       "      <td>3</td>\n",
       "      <td>Alangayam</td>\n",
       "      <td>226.1</td>\n",
       "      <td>7.5</td>\n",
       "      <td>0.0</td>\n",
       "      <td>16.0</td>\n",
       "      <td>150.0</td>\n",
       "      <td>2830</td>\n",
       "      <td>20.0</td>\n",
       "      <td>300</td>\n",
       "      <td>0</td>\n",
       "      <td>549.0</td>\n",
       "      <td>631.0</td>\n",
       "      <td>1.0</td>\n",
       "      <td>4.2</td>\n",
       "      <td>-10.6</td>\n",
       "      <td>5</td>\n",
       "    </tr>\n",
       "    <tr>\n",
       "      <th>3</th>\n",
       "      <td>4</td>\n",
       "      <td>Vaniyambadi1</td>\n",
       "      <td>211.6</td>\n",
       "      <td>7.3</td>\n",
       "      <td>5.0</td>\n",
       "      <td>140.0</td>\n",
       "      <td>264.0</td>\n",
       "      <td>3600</td>\n",
       "      <td>20.0</td>\n",
       "      <td>500</td>\n",
       "      <td>0</td>\n",
       "      <td>726.0</td>\n",
       "      <td>680.0</td>\n",
       "      <td>1.7</td>\n",
       "      <td>7.2</td>\n",
       "      <td>-6.5</td>\n",
       "      <td>5</td>\n",
       "    </tr>\n",
       "    <tr>\n",
       "      <th>4</th>\n",
       "      <td>5</td>\n",
       "      <td>Sangilikuppam</td>\n",
       "      <td>238.3</td>\n",
       "      <td>7.2</td>\n",
       "      <td>2.0</td>\n",
       "      <td>174.0</td>\n",
       "      <td>240.0</td>\n",
       "      <td>2300</td>\n",
       "      <td>24.0</td>\n",
       "      <td>152</td>\n",
       "      <td>0</td>\n",
       "      <td>537.0</td>\n",
       "      <td>305.0</td>\n",
       "      <td>1.2</td>\n",
       "      <td>2.1</td>\n",
       "      <td>-12.0</td>\n",
       "      <td>5</td>\n",
       "    </tr>\n",
       "  </tbody>\n",
       "</table>\n",
       "</div>"
      ],
      "text/plain": [
       "   ID       SITENAME     Mg   PH  K(Potassium)  NITRATE  SULPHATE  \\\n",
       "0   1   Vengalapuram  268.0  7.3          10.0    276.0     304.0   \n",
       "1   2        Kavalur   94.9  7.2           3.0      2.0      12.0   \n",
       "2   3      Alangayam  226.1  7.5           0.0     16.0     150.0   \n",
       "3   4   Vaniyambadi1  211.6  7.3           5.0    140.0     264.0   \n",
       "4   5  Sangilikuppam  238.3  7.2           2.0    174.0     240.0   \n",
       "\n",
       "   EC(Electrical Conductivity)  Ca(Calcium)  Na(Sodium)  CARBONATE  \\\n",
       "0                         5730         16.0         850          0   \n",
       "1                         1069         24.0          77          0   \n",
       "2                         2830         20.0         300          0   \n",
       "3                         3600         20.0         500          0   \n",
       "4                         2300         24.0         152          0   \n",
       "\n",
       "   BICARBONATE  CHLORIDE  FLUORIDE  SAR(Sodium Absorption Ratio)  \\\n",
       "0        878.0    1304.0       1.6                          10.9   \n",
       "1        421.0     163.0       1.3                           1.6   \n",
       "2        549.0     631.0       1.0                           4.2   \n",
       "3        726.0     680.0       1.7                           7.2   \n",
       "4        537.0     305.0       1.2                           2.1   \n",
       "\n",
       "   RSC(Residual Sodium Carbonate waterQuality  \n",
       "0                           -8.5            5  \n",
       "1                           -2.1            1  \n",
       "2                          -10.6            5  \n",
       "3                           -6.5            5  \n",
       "4                          -12.0            5  "
      ]
     },
     "execution_count": 110,
     "metadata": {},
     "output_type": "execute_result"
    }
   ],
   "source": [
    "df['waterQuality'] = df['waterQuality'].replace(['A'],'1')\n",
    "df['waterQuality'] = df['waterQuality'].replace(['B'],'2')\n",
    "df['waterQuality'] = df['waterQuality'].replace(['C'],'3')\n",
    "df['waterQuality'] = df['waterQuality'].replace(['D'],'4')\n",
    "df['waterQuality'] = df['waterQuality'].replace(['E'],'5')\n",
    "df.head()"
   ]
  },
  {
   "cell_type": "code",
   "execution_count": 111,
   "id": "fe3b41f9",
   "metadata": {},
   "outputs": [
    {
     "data": {
      "text/html": [
       "<div>\n",
       "<style scoped>\n",
       "    .dataframe tbody tr th:only-of-type {\n",
       "        vertical-align: middle;\n",
       "    }\n",
       "\n",
       "    .dataframe tbody tr th {\n",
       "        vertical-align: top;\n",
       "    }\n",
       "\n",
       "    .dataframe thead th {\n",
       "        text-align: right;\n",
       "    }\n",
       "</style>\n",
       "<table border=\"1\" class=\"dataframe\">\n",
       "  <thead>\n",
       "    <tr style=\"text-align: right;\">\n",
       "      <th></th>\n",
       "      <th>Mg</th>\n",
       "      <th>PH</th>\n",
       "      <th>K(Potassium)</th>\n",
       "      <th>NITRATE</th>\n",
       "      <th>SULPHATE</th>\n",
       "      <th>EC(Electrical Conductivity)</th>\n",
       "      <th>Ca(Calcium)</th>\n",
       "      <th>Na(Sodium)</th>\n",
       "      <th>BICARBONATE</th>\n",
       "      <th>CHLORIDE</th>\n",
       "      <th>FLUORIDE</th>\n",
       "      <th>SAR(Sodium Absorption Ratio)</th>\n",
       "      <th>RSC(Residual Sodium Carbonate</th>\n",
       "      <th>waterQuality</th>\n",
       "    </tr>\n",
       "  </thead>\n",
       "  <tbody>\n",
       "    <tr>\n",
       "      <th>0</th>\n",
       "      <td>268.0</td>\n",
       "      <td>7.3</td>\n",
       "      <td>10.0</td>\n",
       "      <td>276.0</td>\n",
       "      <td>304.0</td>\n",
       "      <td>5730</td>\n",
       "      <td>16.0</td>\n",
       "      <td>850</td>\n",
       "      <td>878.0</td>\n",
       "      <td>1304.0</td>\n",
       "      <td>1.6</td>\n",
       "      <td>10.9</td>\n",
       "      <td>-8.5</td>\n",
       "      <td>5</td>\n",
       "    </tr>\n",
       "    <tr>\n",
       "      <th>1</th>\n",
       "      <td>94.9</td>\n",
       "      <td>7.2</td>\n",
       "      <td>3.0</td>\n",
       "      <td>2.0</td>\n",
       "      <td>12.0</td>\n",
       "      <td>1069</td>\n",
       "      <td>24.0</td>\n",
       "      <td>77</td>\n",
       "      <td>421.0</td>\n",
       "      <td>163.0</td>\n",
       "      <td>1.3</td>\n",
       "      <td>1.6</td>\n",
       "      <td>-2.1</td>\n",
       "      <td>1</td>\n",
       "    </tr>\n",
       "    <tr>\n",
       "      <th>2</th>\n",
       "      <td>226.1</td>\n",
       "      <td>7.5</td>\n",
       "      <td>0.0</td>\n",
       "      <td>16.0</td>\n",
       "      <td>150.0</td>\n",
       "      <td>2830</td>\n",
       "      <td>20.0</td>\n",
       "      <td>300</td>\n",
       "      <td>549.0</td>\n",
       "      <td>631.0</td>\n",
       "      <td>1.0</td>\n",
       "      <td>4.2</td>\n",
       "      <td>-10.6</td>\n",
       "      <td>5</td>\n",
       "    </tr>\n",
       "    <tr>\n",
       "      <th>3</th>\n",
       "      <td>211.6</td>\n",
       "      <td>7.3</td>\n",
       "      <td>5.0</td>\n",
       "      <td>140.0</td>\n",
       "      <td>264.0</td>\n",
       "      <td>3600</td>\n",
       "      <td>20.0</td>\n",
       "      <td>500</td>\n",
       "      <td>726.0</td>\n",
       "      <td>680.0</td>\n",
       "      <td>1.7</td>\n",
       "      <td>7.2</td>\n",
       "      <td>-6.5</td>\n",
       "      <td>5</td>\n",
       "    </tr>\n",
       "    <tr>\n",
       "      <th>4</th>\n",
       "      <td>238.3</td>\n",
       "      <td>7.2</td>\n",
       "      <td>2.0</td>\n",
       "      <td>174.0</td>\n",
       "      <td>240.0</td>\n",
       "      <td>2300</td>\n",
       "      <td>24.0</td>\n",
       "      <td>152</td>\n",
       "      <td>537.0</td>\n",
       "      <td>305.0</td>\n",
       "      <td>1.2</td>\n",
       "      <td>2.1</td>\n",
       "      <td>-12.0</td>\n",
       "      <td>5</td>\n",
       "    </tr>\n",
       "  </tbody>\n",
       "</table>\n",
       "</div>"
      ],
      "text/plain": [
       "      Mg   PH  K(Potassium)  NITRATE  SULPHATE  EC(Electrical Conductivity)  \\\n",
       "0  268.0  7.3          10.0    276.0     304.0                         5730   \n",
       "1   94.9  7.2           3.0      2.0      12.0                         1069   \n",
       "2  226.1  7.5           0.0     16.0     150.0                         2830   \n",
       "3  211.6  7.3           5.0    140.0     264.0                         3600   \n",
       "4  238.3  7.2           2.0    174.0     240.0                         2300   \n",
       "\n",
       "   Ca(Calcium)  Na(Sodium)  BICARBONATE  CHLORIDE  FLUORIDE  \\\n",
       "0         16.0         850        878.0    1304.0       1.6   \n",
       "1         24.0          77        421.0     163.0       1.3   \n",
       "2         20.0         300        549.0     631.0       1.0   \n",
       "3         20.0         500        726.0     680.0       1.7   \n",
       "4         24.0         152        537.0     305.0       1.2   \n",
       "\n",
       "   SAR(Sodium Absorption Ratio)  RSC(Residual Sodium Carbonate waterQuality  \n",
       "0                          10.9                           -8.5            5  \n",
       "1                           1.6                           -2.1            1  \n",
       "2                           4.2                          -10.6            5  \n",
       "3                           7.2                           -6.5            5  \n",
       "4                           2.1                          -12.0            5  "
      ]
     },
     "execution_count": 111,
     "metadata": {},
     "output_type": "execute_result"
    }
   ],
   "source": [
    "y = df['waterQuality'].astype('int32')\n",
    "x = df.drop(columns = ['SITENAME','ID','CARBONATE'], axis = 1)\n",
    "model = x\n",
    "model.head()"
   ]
  },
  {
   "cell_type": "code",
   "execution_count": 112,
   "id": "65501019",
   "metadata": {},
   "outputs": [
    {
     "data": {
      "text/plain": [
       "1    37\n",
       "3    21\n",
       "5    17\n",
       "2     7\n",
       "4     6\n",
       "Name: waterQuality, dtype: int64"
      ]
     },
     "execution_count": 112,
     "metadata": {},
     "output_type": "execute_result"
    }
   ],
   "source": [
    "df['waterQuality'].value_counts()\n"
   ]
  },
  {
   "cell_type": "code",
   "execution_count": 113,
   "id": "a1d71546",
   "metadata": {},
   "outputs": [],
   "source": [
    "inputs = model.drop(columns = ['waterQuality'], axis = 1)\n",
    "target = model['waterQuality'].astype('int32')\n",
    "\n",
    "from sklearn.preprocessing import LabelEncoder\n",
    "le=LabelEncoder()\n",
    "target=le.fit_transform(model['waterQuality'])"
   ]
  },
  {
   "cell_type": "code",
   "execution_count": 114,
   "id": "8eebcb01",
   "metadata": {},
   "outputs": [],
   "source": [
    "from sklearn.model_selection import train_test_split\n",
    "X_train, X_test, y_train, y_test = train_test_split(inputs,target,test_size=0.2, random_state = 35)\n",
    "\n",
    "from sklearn.preprocessing import StandardScaler\n",
    "scaler = StandardScaler()\n",
    "scaler.fit(X_train)\n",
    "\n",
    "X_train = scaler.transform(X_train)\n",
    "X_test = scaler.transform(X_test)"
   ]
  },
  {
   "cell_type": "code",
   "execution_count": 115,
   "id": "3c1118e6",
   "metadata": {},
   "outputs": [],
   "source": [
    "from sklearn.neighbors import KNeighborsClassifier\n",
    "from sklearn.svm import SVC\n",
    "from sklearn.tree import DecisionTreeClassifier\n",
    "from sklearn.naive_bayes import GaussianNB\n",
    "from sklearn import tree, metrics,naive_bayes,neighbors,svm\n",
    "from sklearn.ensemble import RandomForestClassifier\n",
    "classifier = RandomForestClassifier(n_estimators = 200, criterion = 'entropy', random_state = 0)"
   ]
  },
  {
   "cell_type": "code",
   "execution_count": 116,
   "id": "bcf18967",
   "metadata": {},
   "outputs": [],
   "source": [
    "DecisionTree=tree.DecisionTreeClassifier()\n",
    "naive_bayes=naive_bayes.GaussianNB()\n",
    "svnm=svm.SVC()\n",
    "knn=neighbors.KNeighborsClassifier()\n",
    "classifier = RandomForestClassifier(n_estimators = 200, criterion = 'entropy', random_state = 0)"
   ]
  },
  {
   "cell_type": "code",
   "execution_count": 117,
   "id": "f5ea6ccf",
   "metadata": {},
   "outputs": [
    {
     "name": "stdout",
     "output_type": "stream",
     "text": [
      "accuracy_score of Nearest_Neighbors 0.7777777777777778\n",
      "accuracy_score of Suport Vector Machines 0.8333333333333334\n",
      "accuracy_score of decition tree 0.7222222222222222\n",
      "accuracy_score of Naive_Bayes 0.6666666666666666\n",
      "accuracy_score of RandomForest 0.7777777777777778\n"
     ]
    }
   ],
   "source": [
    "DecisionTree.fit(X_train,y_train)\n",
    "y=DecisionTree.predict(X_test)\n",
    "naive_bayes.fit(X_train,y_train)\n",
    "ynn=naive_bayes.predict(X_test)\n",
    "svnm.fit(X_train,y_train)\n",
    "ysvm=svnm.predict(X_test)\n",
    "knn.fit(X_train,y_train)\n",
    "yknn=knn.predict(X_test)\n",
    "classifier.fit(X_train,y_train)\n",
    "Rf= classifier.predict(X_test)\n",
    "print(\"accuracy_score of Nearest_Neighbors\",metrics.accuracy_score(y_test,ynn))\n",
    "print(\"accuracy_score of Suport Vector Machines\",metrics.accuracy_score(y_test,ysvm))\n",
    "print(\"accuracy_score of decition tree\",metrics.accuracy_score(y_test,y))\n",
    "print(\"accuracy_score of Naive_Bayes\",metrics.accuracy_score(y_test,yknn))\n",
    "print(\"accuracy_score of RandomForest\",metrics.accuracy_score(y_test,Rf))"
   ]
  },
  {
   "cell_type": "code",
   "execution_count": 118,
   "id": "5df1094b",
   "metadata": {},
   "outputs": [
    {
     "name": "stdout",
     "output_type": "stream",
     "text": [
      "\n",
      "Classification report for K-Nearest Neighbor\n",
      "              precision    recall  f1-score   support\n",
      "\n",
      "           0       1.00      0.80      0.89        10\n",
      "           1       0.00      0.00      0.00         1\n",
      "           2       0.50      0.50      0.50         2\n",
      "           3       0.00      0.00      0.00         1\n",
      "           4       0.80      1.00      0.89         4\n",
      "\n",
      "    accuracy                           0.72        18\n",
      "   macro avg       0.46      0.46      0.46        18\n",
      "weighted avg       0.79      0.72      0.75        18\n",
      "\n",
      "\n",
      "Classification report for Naive Bayes\n",
      "              precision    recall  f1-score   support\n",
      "\n",
      "           0       0.90      0.90      0.90        10\n",
      "           1       0.00      0.00      0.00         1\n",
      "           2       0.00      0.00      0.00         2\n",
      "           3       0.00      0.00      0.00         1\n",
      "           4       1.00      0.75      0.86         4\n",
      "\n",
      "    accuracy                           0.67        18\n",
      "   macro avg       0.38      0.33      0.35        18\n",
      "weighted avg       0.72      0.67      0.69        18\n",
      "\n",
      "\n",
      "Classification report for Decision Tree\n",
      "              precision    recall  f1-score   support\n",
      "\n",
      "           0       1.00      0.90      0.95        10\n",
      "           1       0.00      0.00      0.00         1\n",
      "           2       0.33      0.50      0.40         2\n",
      "           3       0.00      0.00      0.00         1\n",
      "           4       0.80      1.00      0.89         4\n",
      "\n",
      "    accuracy                           0.78        18\n",
      "   macro avg       0.43      0.48      0.45        18\n",
      "weighted avg       0.77      0.78      0.77        18\n",
      "\n",
      "\n",
      "Classification report for SVC\n",
      "              precision    recall  f1-score   support\n",
      "\n",
      "           0       1.00      0.90      0.95        10\n",
      "           1       0.00      0.00      0.00         1\n",
      "           2       0.40      1.00      0.57         2\n",
      "           3       0.00      0.00      0.00         1\n",
      "           4       1.00      1.00      1.00         4\n",
      "\n",
      "    accuracy                           0.83        18\n",
      "   macro avg       0.48      0.58      0.50        18\n",
      "weighted avg       0.82      0.83      0.81        18\n",
      "\n",
      "\n",
      "Classification report for Randomforest\n",
      "              precision    recall  f1-score   support\n",
      "\n",
      "           0       1.00      0.90      0.95        10\n",
      "           1       0.00      0.00      0.00         1\n",
      "           2       0.25      0.50      0.33         2\n",
      "           3       0.00      0.00      0.00         1\n",
      "           4       1.00      1.00      1.00         4\n",
      "\n",
      "    accuracy                           0.78        18\n",
      "   macro avg       0.45      0.48      0.46        18\n",
      "weighted avg       0.81      0.78      0.79        18\n",
      "\n"
     ]
    },
    {
     "name": "stderr",
     "output_type": "stream",
     "text": [
      "C:\\Users\\ASME\\anaconda3\\lib\\site-packages\\sklearn\\metrics\\_classification.py:1327: UndefinedMetricWarning: Precision and F-score are ill-defined and being set to 0.0 in labels with no predicted samples. Use `zero_division` parameter to control this behavior.\n",
      "  _warn_prf(average, modifier, msg_start, len(result))\n",
      "C:\\Users\\ASME\\anaconda3\\lib\\site-packages\\sklearn\\metrics\\_classification.py:1327: UndefinedMetricWarning: Precision and F-score are ill-defined and being set to 0.0 in labels with no predicted samples. Use `zero_division` parameter to control this behavior.\n",
      "  _warn_prf(average, modifier, msg_start, len(result))\n",
      "C:\\Users\\ASME\\anaconda3\\lib\\site-packages\\sklearn\\metrics\\_classification.py:1327: UndefinedMetricWarning: Precision and F-score are ill-defined and being set to 0.0 in labels with no predicted samples. Use `zero_division` parameter to control this behavior.\n",
      "  _warn_prf(average, modifier, msg_start, len(result))\n",
      "C:\\Users\\ASME\\anaconda3\\lib\\site-packages\\sklearn\\metrics\\_classification.py:1327: UndefinedMetricWarning: Precision and F-score are ill-defined and being set to 0.0 in labels with no predicted samples. Use `zero_division` parameter to control this behavior.\n",
      "  _warn_prf(average, modifier, msg_start, len(result))\n",
      "C:\\Users\\ASME\\anaconda3\\lib\\site-packages\\sklearn\\metrics\\_classification.py:1327: UndefinedMetricWarning: Precision and F-score are ill-defined and being set to 0.0 in labels with no predicted samples. Use `zero_division` parameter to control this behavior.\n",
      "  _warn_prf(average, modifier, msg_start, len(result))\n",
      "C:\\Users\\ASME\\anaconda3\\lib\\site-packages\\sklearn\\metrics\\_classification.py:1327: UndefinedMetricWarning: Precision and F-score are ill-defined and being set to 0.0 in labels with no predicted samples. Use `zero_division` parameter to control this behavior.\n",
      "  _warn_prf(average, modifier, msg_start, len(result))\n",
      "C:\\Users\\ASME\\anaconda3\\lib\\site-packages\\sklearn\\metrics\\_classification.py:1327: UndefinedMetricWarning: Precision and F-score are ill-defined and being set to 0.0 in labels with no predicted samples. Use `zero_division` parameter to control this behavior.\n",
      "  _warn_prf(average, modifier, msg_start, len(result))\n",
      "C:\\Users\\ASME\\anaconda3\\lib\\site-packages\\sklearn\\metrics\\_classification.py:1327: UndefinedMetricWarning: Precision and F-score are ill-defined and being set to 0.0 in labels with no predicted samples. Use `zero_division` parameter to control this behavior.\n",
      "  _warn_prf(average, modifier, msg_start, len(result))\n",
      "C:\\Users\\ASME\\anaconda3\\lib\\site-packages\\sklearn\\metrics\\_classification.py:1327: UndefinedMetricWarning: Precision and F-score are ill-defined and being set to 0.0 in labels with no predicted samples. Use `zero_division` parameter to control this behavior.\n",
      "  _warn_prf(average, modifier, msg_start, len(result))\n",
      "C:\\Users\\ASME\\anaconda3\\lib\\site-packages\\sklearn\\metrics\\_classification.py:1327: UndefinedMetricWarning: Precision and F-score are ill-defined and being set to 0.0 in labels with no predicted samples. Use `zero_division` parameter to control this behavior.\n",
      "  _warn_prf(average, modifier, msg_start, len(result))\n",
      "C:\\Users\\ASME\\anaconda3\\lib\\site-packages\\sklearn\\metrics\\_classification.py:1327: UndefinedMetricWarning: Precision and F-score are ill-defined and being set to 0.0 in labels with no predicted samples. Use `zero_division` parameter to control this behavior.\n",
      "  _warn_prf(average, modifier, msg_start, len(result))\n",
      "C:\\Users\\ASME\\anaconda3\\lib\\site-packages\\sklearn\\metrics\\_classification.py:1327: UndefinedMetricWarning: Precision and F-score are ill-defined and being set to 0.0 in labels with no predicted samples. Use `zero_division` parameter to control this behavior.\n",
      "  _warn_prf(average, modifier, msg_start, len(result))\n"
     ]
    }
   ],
   "source": [
    "from sklearn.metrics import classification_report, confusion_matrix\n",
    "from sklearn.metrics import confusion_matrix\n",
    "print(\"\\nClassification report for K-Nearest Neighbor\") \n",
    "print(metrics.classification_report(y_test, y))\n",
    "print(\"\\nClassification report for Naive Bayes\") \n",
    "print(metrics.classification_report(y_test, yknn))\n",
    "print(\"\\nClassification report for Decision Tree\") \n",
    "print(metrics.classification_report(y_test, ynn))\n",
    "print(\"\\nClassification report for SVC\") \n",
    "print(metrics.classification_report(y_test, ysvm))\n",
    "print(\"\\nClassification report for Randomforest\") \n",
    "print(metrics.classification_report(y_test, Rf))"
   ]
  },
  {
   "cell_type": "code",
   "execution_count": 119,
   "id": "44df2521",
   "metadata": {},
   "outputs": [
    {
     "name": "stdout",
     "output_type": "stream",
     "text": [
      "\n",
      "Confusion matrix for K-Nearest Neighbor\n",
      "[[8 2 0 0 0]\n",
      " [0 0 0 1 0]\n",
      " [0 0 1 0 1]\n",
      " [0 0 1 0 0]\n",
      " [0 0 0 0 4]]\n",
      "\n",
      "Confusion matrix for Naive Bayes\n",
      "[[9 0 1 0 0]\n",
      " [0 0 1 0 0]\n",
      " [1 1 0 0 0]\n",
      " [0 1 0 0 0]\n",
      " [0 0 1 0 3]]\n",
      "\n",
      "Confusion matrix for Decision Tree\n",
      "[[9 0 1 0 0]\n",
      " [0 0 0 0 1]\n",
      " [0 1 1 0 0]\n",
      " [0 0 1 0 0]\n",
      " [0 0 0 0 4]]\n",
      "\n",
      "Confusion matrix for SVC\n",
      "[[9 0 1 0 0]\n",
      " [0 0 1 0 0]\n",
      " [0 0 2 0 0]\n",
      " [0 0 1 0 0]\n",
      " [0 0 0 0 4]]\n",
      "\n",
      "Confusion matrix for RandomForest\n",
      "[[9 0 1 0 0]\n",
      " [0 0 1 0 0]\n",
      " [0 1 1 0 0]\n",
      " [0 0 1 0 0]\n",
      " [0 0 0 0 4]]\n"
     ]
    }
   ],
   "source": [
    "print(\"\\nConfusion matrix for K-Nearest Neighbor\") \n",
    "print(metrics.confusion_matrix(y_test, y))\n",
    "print(\"\\nConfusion matrix for Naive Bayes\") \n",
    "print(metrics.confusion_matrix(y_test, yknn))\n",
    "print(\"\\nConfusion matrix for Decision Tree\") \n",
    "print(metrics.confusion_matrix(y_test, ynn))\n",
    "print(\"\\nConfusion matrix for SVC\") \n",
    "print(metrics.confusion_matrix(y_test, ysvm))\n",
    "print(\"\\nConfusion matrix for RandomForest\") \n",
    "print(metrics.confusion_matrix(y_test,  Rf))\n",
    "\n",
    "\n"
   ]
  },
  {
   "cell_type": "code",
   "execution_count": 120,
   "id": "8f748586",
   "metadata": {},
   "outputs": [
    {
     "data": {
      "text/plain": [
       "array([[0.6, 0.2, 0. , 0.2, 0. ],\n",
       "       [0.8, 0.2, 0. , 0. , 0. ],\n",
       "       [0.6, 0.2, 0.2, 0. , 0. ],\n",
       "       [0.8, 0.2, 0. , 0. , 0. ],\n",
       "       [0.4, 0.4, 0.2, 0. , 0. ],\n",
       "       [0.8, 0.2, 0. , 0. , 0. ],\n",
       "       [0. , 0.2, 0.4, 0. , 0.4],\n",
       "       [0. , 0. , 0.2, 0. , 0.8],\n",
       "       [1. , 0. , 0. , 0. , 0. ],\n",
       "       [0. , 0.2, 0. , 0.2, 0.6]])"
      ]
     },
     "execution_count": 120,
     "metadata": {},
     "output_type": "execute_result"
    }
   ],
   "source": [
    "y_pred_probs = knn.predict_proba(X_test)\n",
    "\n",
    "y_pred_probs[:10]"
   ]
  },
  {
   "cell_type": "code",
   "execution_count": 121,
   "id": "2c720bf1",
   "metadata": {},
   "outputs": [
    {
     "data": {
      "text/plain": [
       "array([[9.95942070e-001, 5.49927669e-005, 4.00256963e-003,\n",
       "        3.67545610e-007, 1.07798506e-010],\n",
       "       [9.98986662e-001, 7.80817745e-006, 1.00552926e-003,\n",
       "        1.13410466e-010, 1.67358849e-013],\n",
       "       [9.99879583e-001, 2.34495198e-005, 9.69673414e-005,\n",
       "        5.91617621e-011, 4.19945700e-013],\n",
       "       [8.94447143e-001, 3.16641238e-002, 7.38887331e-002,\n",
       "        7.93727492e-025, 1.03991876e-012],\n",
       "       [3.04493467e-006, 9.28687892e-001, 3.85808964e-002,\n",
       "        3.27276595e-002, 5.06930295e-007],\n",
       "       [9.99975630e-001, 8.73847022e-007, 2.34959653e-005,\n",
       "        2.12425594e-027, 6.89656573e-014],\n",
       "       [4.74991439e-057, 1.34585222e-010, 7.19433755e-007,\n",
       "        2.33011455e-105, 9.99999280e-001],\n",
       "       [5.71707214e-093, 5.88637302e-045, 3.94858430e-008,\n",
       "        1.73307691e-192, 9.99999961e-001],\n",
       "       [9.99999994e-001, 2.36219136e-014, 6.24532772e-009,\n",
       "        4.02587961e-033, 1.50117919e-029],\n",
       "       [2.07711512e-037, 3.10114358e-012, 1.15610335e-002,\n",
       "        2.95863131e-020, 9.88438967e-001]])"
      ]
     },
     "execution_count": 121,
     "metadata": {},
     "output_type": "execute_result"
    }
   ],
   "source": [
    "y_pred_probs = naive_bayes.predict_proba(X_test)\n",
    "\n",
    "y_pred_probs[:10]"
   ]
  },
  {
   "cell_type": "code",
   "execution_count": 122,
   "id": "21ac44ca",
   "metadata": {},
   "outputs": [
    {
     "data": {
      "text/plain": [
       "array([[1., 0., 0., 0., 0.],\n",
       "       [1., 0., 0., 0., 0.],\n",
       "       [1., 0., 0., 0., 0.],\n",
       "       [0., 1., 0., 0., 0.],\n",
       "       [0., 0., 1., 0., 0.],\n",
       "       [1., 0., 0., 0., 0.],\n",
       "       [0., 0., 0., 0., 1.],\n",
       "       [0., 0., 0., 0., 1.],\n",
       "       [1., 0., 0., 0., 0.],\n",
       "       [0., 0., 0., 0., 1.]])"
      ]
     },
     "execution_count": 122,
     "metadata": {},
     "output_type": "execute_result"
    }
   ],
   "source": [
    "y_pred_probs = DecisionTree.predict_proba(X_test)\n",
    "y_pred_probs[:10]"
   ]
  },
  {
   "cell_type": "code",
   "execution_count": 123,
   "id": "9159fb2a",
   "metadata": {},
   "outputs": [
    {
     "data": {
      "text/plain": [
       "array([[1., 0., 0., 0., 0.],\n",
       "       [1., 0., 0., 0., 0.],\n",
       "       [1., 0., 0., 0., 0.],\n",
       "       [0., 1., 0., 0., 0.],\n",
       "       [0., 0., 1., 0., 0.],\n",
       "       [1., 0., 0., 0., 0.],\n",
       "       [0., 0., 0., 0., 1.],\n",
       "       [0., 0., 0., 0., 1.],\n",
       "       [1., 0., 0., 0., 0.],\n",
       "       [0., 0., 0., 0., 1.]])"
      ]
     },
     "execution_count": 123,
     "metadata": {},
     "output_type": "execute_result"
    }
   ],
   "source": [
    "y_pred_probs = DecisionTree.predict_proba(X_test)\n",
    "y_pred_probs[:10]"
   ]
  },
  {
   "cell_type": "code",
   "execution_count": 124,
   "id": "2edc19fa",
   "metadata": {},
   "outputs": [
    {
     "data": {
      "text/plain": [
       "array([[0.67 , 0.12 , 0.13 , 0.075, 0.005],\n",
       "       [0.53 , 0.16 , 0.24 , 0.07 , 0.   ],\n",
       "       [0.705, 0.21 , 0.065, 0.02 , 0.   ],\n",
       "       [0.305, 0.305, 0.285, 0.105, 0.   ],\n",
       "       [0.19 , 0.055, 0.59 , 0.135, 0.03 ],\n",
       "       [0.955, 0.005, 0.04 , 0.   , 0.   ],\n",
       "       [0.02 , 0.115, 0.24 , 0.075, 0.55 ],\n",
       "       [0.01 , 0.035, 0.2  , 0.05 , 0.705],\n",
       "       [0.97 , 0.   , 0.03 , 0.   , 0.   ],\n",
       "       [0.   , 0.045, 0.035, 0.06 , 0.86 ]])"
      ]
     },
     "execution_count": 124,
     "metadata": {},
     "output_type": "execute_result"
    }
   ],
   "source": [
    "y_pred_probs = classifier.predict_proba(X_test)\n",
    "\n",
    "y_pred_probs[:10]"
   ]
  },
  {
   "cell_type": "markdown",
   "id": "6ae995fb",
   "metadata": {},
   "source": [
    "# Defining learning classifiers"
   ]
  },
  {
   "cell_type": "code",
   "execution_count": 125,
   "id": "35077e93",
   "metadata": {},
   "outputs": [],
   "source": [
    "classifiersnames = [\"Nearest_Neighbors\", \"Linear_SVM\",  \"Decision_Tree\",\n",
    "         \"Naive_Bayes\",\"RandomForest\"]\n",
    "classifiers = [\n",
    "    KNeighborsClassifier(),\n",
    "    SVC(C=1, kernel='linear', gamma='auto'),\n",
    "    DecisionTreeClassifier(),\n",
    "    GaussianNB(),RandomForestClassifier()]"
   ]
  },
  {
   "cell_type": "markdown",
   "id": "0ae3d357",
   "metadata": {},
   "source": [
    "# Build Model, Apply Model on Test Data & Record Accuracy Scores"
   ]
  },
  {
   "cell_type": "code",
   "execution_count": 126,
   "id": "51b18416",
   "metadata": {},
   "outputs": [],
   "source": [
    "accuracy_score = []\n",
    "for name, clf in zip(classifiersnames, classifiers):\n",
    "    clf.fit(X_train, y_train)\n",
    "    score = clf.score(X_test,y_test)\n",
    "    accuracy_score.append(score)"
   ]
  },
  {
   "cell_type": "code",
   "execution_count": 127,
   "id": "cf9b01d7",
   "metadata": {},
   "outputs": [],
   "source": [
    "import pandas as pd\n",
    "import seaborn as sns"
   ]
  },
  {
   "cell_type": "markdown",
   "id": "a113fb11",
   "metadata": {},
   "source": [
    "# Create data frame of *model performance*"
   ]
  },
  {
   "cell_type": "code",
   "execution_count": 128,
   "id": "e42b7839",
   "metadata": {},
   "outputs": [
    {
     "data": {
      "text/html": [
       "<div>\n",
       "<style scoped>\n",
       "    .dataframe tbody tr th:only-of-type {\n",
       "        vertical-align: middle;\n",
       "    }\n",
       "\n",
       "    .dataframe tbody tr th {\n",
       "        vertical-align: top;\n",
       "    }\n",
       "\n",
       "    .dataframe thead th {\n",
       "        text-align: right;\n",
       "    }\n",
       "</style>\n",
       "<table border=\"1\" class=\"dataframe\">\n",
       "  <thead>\n",
       "    <tr style=\"text-align: right;\">\n",
       "      <th></th>\n",
       "      <th>classifiersnames</th>\n",
       "      <th>accuracy_score</th>\n",
       "    </tr>\n",
       "  </thead>\n",
       "  <tbody>\n",
       "    <tr>\n",
       "      <th>0</th>\n",
       "      <td>Nearest_Neighbors</td>\n",
       "      <td>0.666667</td>\n",
       "    </tr>\n",
       "    <tr>\n",
       "      <th>1</th>\n",
       "      <td>Linear_SVM</td>\n",
       "      <td>0.833333</td>\n",
       "    </tr>\n",
       "    <tr>\n",
       "      <th>2</th>\n",
       "      <td>Decision_Tree</td>\n",
       "      <td>0.722222</td>\n",
       "    </tr>\n",
       "    <tr>\n",
       "      <th>3</th>\n",
       "      <td>Naive_Bayes</td>\n",
       "      <td>0.777778</td>\n",
       "    </tr>\n",
       "    <tr>\n",
       "      <th>4</th>\n",
       "      <td>RandomForest</td>\n",
       "      <td>0.722222</td>\n",
       "    </tr>\n",
       "  </tbody>\n",
       "</table>\n",
       "</div>"
      ],
      "text/plain": [
       "    classifiersnames  accuracy_score\n",
       "0  Nearest_Neighbors        0.666667\n",
       "1         Linear_SVM        0.833333\n",
       "2      Decision_Tree        0.722222\n",
       "3        Naive_Bayes        0.777778\n",
       "4       RandomForest        0.722222"
      ]
     },
     "execution_count": 128,
     "metadata": {},
     "output_type": "execute_result"
    }
   ],
   "source": [
    "df = pd.DataFrame()\n",
    "df['classifiersnames'] = classifiersnames\n",
    "df['accuracy_score'] = accuracy_score \n",
    "df"
   ]
  },
  {
   "cell_type": "markdown",
   "id": "9c94f61c",
   "metadata": {},
   "source": [
    "# Adding colors to the data frame"
   ]
  },
  {
   "cell_type": "code",
   "execution_count": 129,
   "id": "031d2bde",
   "metadata": {},
   "outputs": [
    {
     "data": {
      "text/html": [
       "<style type=\"text/css\">\n",
       "#T_b570b_row0_col1 {\n",
       "  background-color: #f1f1f1;\n",
       "  color: #000000;\n",
       "}\n",
       "#T_b570b_row1_col1 {\n",
       "  background-color: #000000;\n",
       "  color: #f1f1f1;\n",
       "}\n",
       "#T_b570b_row2_col1, #T_b570b_row4_col1 {\n",
       "  background-color: #a0a0a0;\n",
       "  color: #f1f1f1;\n",
       "}\n",
       "#T_b570b_row3_col1 {\n",
       "  background-color: #505050;\n",
       "  color: #f1f1f1;\n",
       "}\n",
       "</style>\n",
       "<table id=\"T_b570b_\">\n",
       "  <thead>\n",
       "    <tr>\n",
       "      <th class=\"blank level0\" >&nbsp;</th>\n",
       "      <th class=\"col_heading level0 col0\" >classifiersnames</th>\n",
       "      <th class=\"col_heading level0 col1\" >accuracy_score</th>\n",
       "    </tr>\n",
       "  </thead>\n",
       "  <tbody>\n",
       "    <tr>\n",
       "      <th id=\"T_b570b_level0_row0\" class=\"row_heading level0 row0\" >0</th>\n",
       "      <td id=\"T_b570b_row0_col0\" class=\"data row0 col0\" >Nearest_Neighbors</td>\n",
       "      <td id=\"T_b570b_row0_col1\" class=\"data row0 col1\" >0.666667</td>\n",
       "    </tr>\n",
       "    <tr>\n",
       "      <th id=\"T_b570b_level0_row1\" class=\"row_heading level0 row1\" >1</th>\n",
       "      <td id=\"T_b570b_row1_col0\" class=\"data row1 col0\" >Linear_SVM</td>\n",
       "      <td id=\"T_b570b_row1_col1\" class=\"data row1 col1\" >0.833333</td>\n",
       "    </tr>\n",
       "    <tr>\n",
       "      <th id=\"T_b570b_level0_row2\" class=\"row_heading level0 row2\" >2</th>\n",
       "      <td id=\"T_b570b_row2_col0\" class=\"data row2 col0\" >Decision_Tree</td>\n",
       "      <td id=\"T_b570b_row2_col1\" class=\"data row2 col1\" >0.722222</td>\n",
       "    </tr>\n",
       "    <tr>\n",
       "      <th id=\"T_b570b_level0_row3\" class=\"row_heading level0 row3\" >3</th>\n",
       "      <td id=\"T_b570b_row3_col0\" class=\"data row3 col0\" >Naive_Bayes</td>\n",
       "      <td id=\"T_b570b_row3_col1\" class=\"data row3 col1\" >0.777778</td>\n",
       "    </tr>\n",
       "    <tr>\n",
       "      <th id=\"T_b570b_level0_row4\" class=\"row_heading level0 row4\" >4</th>\n",
       "      <td id=\"T_b570b_row4_col0\" class=\"data row4 col0\" >RandomForest</td>\n",
       "      <td id=\"T_b570b_row4_col1\" class=\"data row4 col1\" >0.722222</td>\n",
       "    </tr>\n",
       "  </tbody>\n",
       "</table>\n"
      ],
      "text/plain": [
       "<pandas.io.formats.style.Styler at 0x1ce20d3e9a0>"
      ]
     },
     "execution_count": 129,
     "metadata": {},
     "output_type": "execute_result"
    }
   ],
   "source": [
    "cm = sns.light_palette(\"black\", as_cmap=True)\n",
    "s = df.style.background_gradient(cmap=cm)\n",
    "s"
   ]
  },
  {
   "cell_type": "markdown",
   "id": "8d048eea",
   "metadata": {},
   "source": [
    "# barplot"
   ]
  },
  {
   "cell_type": "code",
   "execution_count": 130,
   "id": "ffa55445",
   "metadata": {},
   "outputs": [
    {
     "data": {
      "image/png": "[encoded data removed]",
      "text/plain": [
       "<Figure size 432x288 with 1 Axes>"
      ]
     },
     "metadata": {},
     "output_type": "display_data"
    }
   ],
   "source": [
    "sns.set(style=\"whitegrid\")\n",
    "ax = sns.barplot(y=\"classifiersnames\", x=\"accuracy_score\", data=df)"
   ]
  },
  {
   "cell_type": "markdown",
   "id": "56c7c4b4",
   "metadata": {},
   "source": [
    "# importing necessary libraries"
   ]
  },
  {
   "cell_type": "code",
   "execution_count": 145,
   "id": "0cc8ca8e",
   "metadata": {},
   "outputs": [],
   "source": [
    "from scipy.stats import itemfreq\n",
    "from matplotlib import pyplot\n",
    "from sklearn.datasets import make_classification\n",
    "from sklearn.linear_model import LogisticRegression\n",
    "from sklearn.model_selection import train_test_split\n",
    "from sklearn.metrics import auc\n",
    "from sklearn.metrics import roc_curve\n",
    "from sklearn.metrics import roc_auc_score\n",
    "from sklearn.metrics import accuracy_score\n",
    "from sklearn.metrics import classification_report\n",
    "from sklearn.metrics import precision_recall_curve"
   ]
  },
  {
   "cell_type": "markdown",
   "id": "46c66990",
   "metadata": {},
   "source": [
    "# splitting the dataset"
   ]
  },
  {
   "cell_type": "code",
   "execution_count": 146,
   "id": "6d545984",
   "metadata": {},
   "outputs": [],
   "source": [
    "X, y = make_classification(n_samples=10000, n_classes=2, weights=[0.95,0.05], random_state=42)\n",
    "X_train, X_test, y_train, y_test = train_test_split(X, y, test_size=0.2, random_state=2)"
   ]
  },
  {
   "cell_type": "markdown",
   "id": "a057d4f7",
   "metadata": {},
   "source": [
    "# Step 3: Plot the ROC Curve"
   ]
  },
  {
   "cell_type": "code",
   "execution_count": 147,
   "id": "19b115fa",
   "metadata": {},
   "outputs": [],
   "source": [
    "DecisionTree.fit(X_train,y_train)\n",
    "DecisionTree.score(X_test, y_test)\n",
    "y=DecisionTree.predict(X_test)\n",
    "naive_bayes.fit(X_train,y_train)\n",
    "naive_bayes.score(X_train,y_train)\n",
    "ynn=naive_bayes.predict(X_test)\n",
    "svnm.fit(X_train,y_train)\n",
    "svnm.score(X_test, y_test)\n",
    "ysvm=svnm.predict(X_test)\n",
    "knn.fit(X_train,y_train)\n",
    "knn.score(X_test, y_test)\n",
    "yknn=knn.predict(X_test)\n",
    "classifier.fit(X_train,y_train)\n",
    "classifier.score(X_test, y_test)\n",
    "Rf= classifier.predict(X_test)"
   ]
  },
  {
   "cell_type": "markdown",
   "id": "ec8e6f06",
   "metadata": {},
   "source": [
    "# predict probability"
   ]
  },
  {
   "cell_type": "code",
   "execution_count": 149,
   "id": "38a77bb9",
   "metadata": {},
   "outputs": [],
   "source": [
    "#r_probs = [0 for _ in range(len(y_test))]\n",
    "y = DecisionTree.predict(X_test)\n",
    "ynn=naive_bayes.predict(X_test)\n",
    "ysvm=svnm.predict(X_test)\n",
    "yknn=knn.predict(X_test)\n",
    "Rf= classifier.predict(X_test)"
   ]
  },
  {
   "cell_type": "markdown",
   "id": "d99f303b",
   "metadata": {},
   "source": [
    "# compute the auc"
   ]
  },
  {
   "cell_type": "code",
   "execution_count": 151,
   "id": "e1270420",
   "metadata": {},
   "outputs": [],
   "source": [
    "from sklearn.metrics import roc_curve, roc_auc_score\n",
    "#r_auc = roc_auc_score(y_test, r_probs)\n",
    "y_auc = roc_auc_score(y_test, y)\n",
    "ynn_auc = roc_auc_score(y_test, ynn)\n",
    "ysvm_auc = roc_auc_score(y_test, ysvm)\n",
    "yknn_auc = roc_auc_score(y_test, yknn)\n",
    "Rf_auc = roc_auc_score(y_test, Rf)"
   ]
  },
  {
   "cell_type": "markdown",
   "id": "5f8dc47c",
   "metadata": {},
   "source": [
    "# Display the aucroc"
   ]
  },
  {
   "cell_type": "code",
   "execution_count": 153,
   "id": "1fc00b83",
   "metadata": {},
   "outputs": [
    {
     "name": "stdout",
     "output_type": "stream",
     "text": [
      "Naive Bayes: AUROC = 0.789\n",
      "Decision Tree prediction: AUROC = 0.751\n",
      "KNearest neighbors prediction: AUROC = 0.623\n",
      "Support vector machine: AUROC = 0.631\n"
     ]
    }
   ],
   "source": [
    "#print(\"Random prediction: AUROC = %.3f\" %(Rf_auc))\n",
    "print(\"Naive Bayes: AUROC = %.3f\" %(ynn_auc))\n",
    "print(\"Decision Tree prediction: AUROC = %.3f\" %(y_auc))\n",
    "print(\"KNearest neighbors prediction: AUROC = %.3f\" %(yknn_auc ))\n",
    "print(\"Support vector machine: AUROC = %.3f\" %(ysvm_auc))"
   ]
  },
  {
   "cell_type": "markdown",
   "id": "b2b3302a",
   "metadata": {},
   "source": [
    "# calculate the ROC curve"
   ]
  },
  {
   "cell_type": "code",
   "execution_count": 155,
   "id": "a89e622c",
   "metadata": {},
   "outputs": [],
   "source": [
    "#r_fpr, r_tpr, _= roc_curve(y_test, r_probs)\n",
    "rf_fpr, rf_tpr, _ = roc_curve(y_test, Rf)\n",
    "nb_fpr, nb_tpr,_ = roc_curve(y_test, ynn)\n",
    "dt_fpr, dt_tpr,_ = roc_curve(y_test, y)\n",
    "knn_fpr, knn_tpr,_ = roc_curve(y_test, yknn)\n",
    "sv_fpr, sv_tpr, _ = roc_curve(y_test, ysvm)"
   ]
  },
  {
   "cell_type": "markdown",
   "id": "94441a5e",
   "metadata": {},
   "source": [
    "# plot the ROC Curve"
   ]
  },
  {
   "cell_type": "code",
   "execution_count": 158,
   "id": "e6514f10",
   "metadata": {},
   "outputs": [
    {
     "data": {
      "image/png": "[encoded data removed]",
      "text/plain": [
       "<Figure size 720x360 with 1 Axes>"
      ]
     },
     "metadata": {},
     "output_type": "display_data"
    }
   ],
   "source": [
    "import matplotlib.pyplot as plt\n",
    "plt.figure(figsize = (10, 5))\n",
    "#plt.plot(r_fpr, r_tpr, linestyle= '--', label = 'Random prediction(AUROC = %0.3f)' %r_auc)\n",
    "plt.plot(rf_fpr, rf_tpr, linestyle= '--', label = 'Random forest(AUROC = %0.3f)' %Rf_auc)\n",
    "plt.plot(nb_fpr, nb_tpr, linestyle= '--', label = 'Naive Bayes(AUROC = %0.3f)' %ynn_auc)\n",
    "plt.plot(dt_fpr, dt_tpr, linestyle= '--', label = 'Decision Tree(AUROC = %0.3f)' %y_auc)\n",
    "plt.plot(knn_fpr, knn_tpr, linestyle= '--', label = 'K_nearest Neighbors(AUROC = %0.3f)' %yknn_auc)\n",
    "plt.plot(sv_fpr, sv_tpr, linestyle= '--', label = 'Support vector machine (AUROC = %0.3f)' %ysvm_auc)\n",
    "plt.title('ROC Plot')\n",
    "plt.xlabel('False positive Rate')\n",
    "plt.ylabel('True positive Rate')\n",
    "#show legend\n",
    "plt.legend()\n",
    "plt.show()"
   ]
  },
  {
   "cell_type": "code",
   "execution_count": null,
   "id": "6556a1a7",
   "metadata": {},
   "outputs": [],
   "source": [
    "   "
   ]
  },
  {
   "cell_type": "code",
   "execution_count": null,
   "id": "217c9e45",
   "metadata": {},
   "outputs": [],
   "source": [
    "# Thanks !!!"
   ]
  }
 ],
 "metadata": {
  "kernelspec": {
   "display_name": "Python 3 (ipykernel)",
   "language": "python",
   "name": "python3"
  },
  "language_info": {
   "codemirror_mode": {
    "name": "ipython",
    "version": 3
   },
   "file_extension": ".py",
   "mimetype": "text/x-python",
   "name": "python",
   "nbconvert_exporter": "python",
   "pygments_lexer": "ipython3",
   "version": "3.9.7"
  }
 },
 "nbformat": 4,
 "nbformat_minor": 5
}
